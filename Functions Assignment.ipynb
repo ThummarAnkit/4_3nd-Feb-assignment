{
 "cells": [
  {
   "cell_type": "markdown",
   "id": "eb772d99",
   "metadata": {},
   "source": [
    "# Q1. Which keyword is used to create a function? Create a function to return a list of odd numbers in the range of 1 to 25."
   ]
  },
  {
   "cell_type": "markdown",
   "id": "ac14a790",
   "metadata": {},
   "source": [
    "### Ans :\n",
    "def keyword is used to create a function."
   ]
  },
  {
   "cell_type": "code",
   "execution_count": 1,
   "id": "dbd55b5f",
   "metadata": {},
   "outputs": [
    {
     "name": "stdout",
     "output_type": "stream",
     "text": [
      "[1, 3, 5, 7, 9, 11, 13, 15, 17, 19, 21, 23, 25]\n"
     ]
    }
   ],
   "source": [
    "def odd_num():\n",
    "    num = 25\n",
    "    lst = []\n",
    "    \n",
    "    for i in range(num+1):\n",
    "        if i%2!=0:\n",
    "            lst.append(i)\n",
    "            \n",
    "    return lst\n",
    "\n",
    "odd_list = odd_num()\n",
    "print(odd_list)"
   ]
  },
  {
   "cell_type": "markdown",
   "id": "1777f2db",
   "metadata": {},
   "source": [
    "# Q2. Why *args and **kwargs is used in some functions? Create a function each for *args and **kwargs to demonstrate their use."
   ]
  },
  {
   "cell_type": "markdown",
   "id": "3d3b15d0",
   "metadata": {},
   "source": [
    "### Ans:\n",
    "We use *args and **kwargs as an argument when we are unsure about the number of arguments to pass in the functions."
   ]
  },
  {
   "cell_type": "markdown",
   "id": "ebd0452f",
   "metadata": {},
   "source": [
    "### Example:\n",
    "#### *args :"
   ]
  },
  {
   "cell_type": "code",
   "execution_count": 2,
   "id": "593bf5be",
   "metadata": {},
   "outputs": [
    {
     "name": "stdout",
     "output_type": "stream",
     "text": [
      "Sum: 8\n",
      "Sum: 22\n",
      "Sum: 17\n"
     ]
    }
   ],
   "source": [
    "def adder(*num):\n",
    "    sum = 0\n",
    "    \n",
    "    for n in num:\n",
    "        sum = sum + n\n",
    "\n",
    "    print(\"Sum:\",sum)\n",
    "\n",
    "adder(3,5)\n",
    "adder(4,5,6,7)\n",
    "adder(1,2,3,5,6)"
   ]
  },
  {
   "cell_type": "markdown",
   "id": "048cdcfb",
   "metadata": {},
   "source": [
    "#### **kwargs :"
   ]
  },
  {
   "cell_type": "code",
   "execution_count": 3,
   "id": "788269a1",
   "metadata": {},
   "outputs": [
    {
     "name": "stdout",
     "output_type": "stream",
     "text": [
      "\n",
      "Data type of argument: <class 'dict'>\n",
      "Firstname is Hemil\n",
      "Lastname is Patoliya\n",
      "Age is 22\n",
      "Phone is 1234567890\n",
      "\n",
      "Data type of argument: <class 'dict'>\n",
      "Firstname is Ankit\n",
      "Lastname is Thummar\n",
      "Email is ankitthummar@gmail.com\n",
      "Country is India\n",
      "Age is 19\n",
      "Phone is 9876543210\n"
     ]
    }
   ],
   "source": [
    "def intro(**data):\n",
    "    print(\"\\nData type of argument:\",type(data))\n",
    "\n",
    "    for key, value in data.items():\n",
    "        print(\"{} is {}\".format(key,value))\n",
    "\n",
    "intro(Firstname=\"Hemil\", Lastname=\"Patoliya\", Age=22, Phone=1234567890)\n",
    "intro(Firstname=\"Ankit\", Lastname=\"Thummar\", Email=\"ankitthummar@gmail.com\", Country=\"India\", Age=19, Phone=9876543210)"
   ]
  },
  {
   "cell_type": "markdown",
   "id": "931c03c9",
   "metadata": {},
   "source": [
    "# Q3. What is an iterator in python? Name the method used to initialise the iterator object and the method used for iteration. Use these methods to print the first five elements of the given list \n",
    "[2, 4, 6, 8, 10, 12, 14, 16,\n",
    "18, 20]."
   ]
  },
  {
   "cell_type": "markdown",
   "id": "8f33df03",
   "metadata": {},
   "source": [
    "### Ans :\n",
    "An iterator is an object that contains a countable number of values. An iterator is an object that can be iterated upon, meaning that you can traverse through all the values."
   ]
  },
  {
   "cell_type": "markdown",
   "id": "8acbe7e1",
   "metadata": {},
   "source": [
    "The iterator object is initialized using the iter() method. It uses the next() method for iteration."
   ]
  },
  {
   "cell_type": "code",
   "execution_count": 4,
   "id": "8b2aedd3",
   "metadata": {},
   "outputs": [
    {
     "name": "stdout",
     "output_type": "stream",
     "text": [
      "2\n",
      "4\n",
      "6\n",
      "8\n",
      "10\n"
     ]
    }
   ],
   "source": [
    "lst = [2, 4, 6, 8, 10, 12, 14, 16,\n",
    "18, 20]\n",
    "lst_iterator = iter(lst)\n",
    " \n",
    "print(next(lst_iterator))\n",
    "print(next(lst_iterator))\n",
    "print(next(lst_iterator))\n",
    "print(next(lst_iterator))\n",
    "print(next(lst_iterator))"
   ]
  },
  {
   "cell_type": "markdown",
   "id": "7a2f6717",
   "metadata": {},
   "source": [
    "# Q4. What is a generator function in python? Why yield keyword is used? Give an example of a generator function."
   ]
  },
  {
   "cell_type": "markdown",
   "id": "a4ff5003",
   "metadata": {},
   "source": [
    "### Ans :\n",
    "Python Generator functions allow you to declare a function that behaves likes an iterator, allowing programmers to make an iterator in a fast, easy, and clean way."
   ]
  },
  {
   "cell_type": "markdown",
   "id": "98f86103",
   "metadata": {},
   "source": [
    "yield keyword is used to create a generator function. A type of function that is memory efficient and can be used like an iterator object."
   ]
  },
  {
   "cell_type": "markdown",
   "id": "7dea2824",
   "metadata": {},
   "source": [
    "### Example : \n"
   ]
  },
  {
   "cell_type": "code",
   "execution_count": 5,
   "id": "30e75a2b",
   "metadata": {},
   "outputs": [
    {
     "name": "stdout",
     "output_type": "stream",
     "text": [
      "1\n",
      "2\n",
      "3\n"
     ]
    }
   ],
   "source": [
    "def simpleGeneratorFun():\n",
    "    yield 1           \n",
    "    yield 2           \n",
    "    yield 3           \n",
    "  \n",
    "for value in simpleGeneratorFun():\n",
    "    print(value)"
   ]
  },
  {
   "cell_type": "markdown",
   "id": "7653605c",
   "metadata": {},
   "source": [
    "# Q5. Create a generator function for prime numbers less than 1000. Use the next() method to print the first 20 prime numbers."
   ]
  },
  {
   "cell_type": "code",
   "execution_count": 6,
   "id": "49af1ac8",
   "metadata": {},
   "outputs": [
    {
     "name": "stdout",
     "output_type": "stream",
     "text": [
      "2\n",
      "3\n",
      "5\n",
      "7\n",
      "11\n",
      "13\n",
      "17\n",
      "19\n",
      "23\n",
      "29\n",
      "31\n",
      "37\n",
      "41\n",
      "43\n",
      "47\n",
      "53\n",
      "59\n",
      "61\n",
      "67\n",
      "71\n",
      "73\n"
     ]
    }
   ],
   "source": [
    "# Function to check whether\n",
    "# a number is prime or not .\n",
    "def isPrime(n):\n",
    "     \n",
    "    if n <= 1 :\n",
    "        return False\n",
    " \n",
    "    for i in range(2, n):\n",
    "        if n % i == 0:\n",
    "            return False\n",
    " \n",
    "    return True\n",
    "\n",
    "def prime_num():\n",
    "    for i in range(2, 1001):\n",
    "        if isPrime(i):\n",
    "            yield i\n",
    "            \n",
    "prime_iter = iter(prime_num())\n",
    "            \n",
    "for i in range(21):\n",
    "    print(next(prime_iter))"
   ]
  },
  {
   "cell_type": "code",
   "execution_count": null,
   "id": "77a42dd5",
   "metadata": {},
   "outputs": [],
   "source": []
  }
 ],
 "metadata": {
  "kernelspec": {
   "display_name": "Python 3 (ipykernel)",
   "language": "python",
   "name": "python3"
  },
  "language_info": {
   "codemirror_mode": {
    "name": "ipython",
    "version": 3
   },
   "file_extension": ".py",
   "mimetype": "text/x-python",
   "name": "python",
   "nbconvert_exporter": "python",
   "pygments_lexer": "ipython3",
   "version": "3.9.7"
  }
 },
 "nbformat": 4,
 "nbformat_minor": 5
}
